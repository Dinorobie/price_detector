{
 "cells": [
  {
   "cell_type": "code",
   "execution_count": 1,
   "id": "ed646dc8",
   "metadata": {},
   "outputs": [],
   "source": [
    "import pandas as pd\n",
    "import matplotlib.pyplot as plt\n",
    "import numpy as np"
   ]
  },
  {
   "cell_type": "code",
   "execution_count": 2,
   "id": "a1fe7380",
   "metadata": {},
   "outputs": [
    {
     "data": {
      "text/html": [
       "<div>\n",
       "<style scoped>\n",
       "    .dataframe tbody tr th:only-of-type {\n",
       "        vertical-align: middle;\n",
       "    }\n",
       "\n",
       "    .dataframe tbody tr th {\n",
       "        vertical-align: top;\n",
       "    }\n",
       "\n",
       "    .dataframe thead th {\n",
       "        text-align: right;\n",
       "    }\n",
       "</style>\n",
       "<table border=\"1\" class=\"dataframe\">\n",
       "  <thead>\n",
       "    <tr style=\"text-align: right;\">\n",
       "      <th></th>\n",
       "      <th>Unnamed: 0</th>\n",
       "      <th>precio_m2</th>\n",
       "      <th>superficie_total</th>\n",
       "      <th>categoria</th>\n",
       "      <th>dormitorios</th>\n",
       "      <th>baños</th>\n",
       "      <th>cocheras</th>\n",
       "      <th>colonia</th>\n",
       "      <th>alcaldia</th>\n",
       "      <th>dist_metro</th>\n",
       "    </tr>\n",
       "  </thead>\n",
       "  <tbody>\n",
       "    <tr>\n",
       "      <th>0</th>\n",
       "      <td>0</td>\n",
       "      <td>60144.927536</td>\n",
       "      <td>138.0</td>\n",
       "      <td>departamento</td>\n",
       "      <td>2.0</td>\n",
       "      <td>3.0</td>\n",
       "      <td>2.0</td>\n",
       "      <td>POLANCO REFORMA (POLANCO)</td>\n",
       "      <td>MIGUEL HIDALGO</td>\n",
       "      <td>499.558324</td>\n",
       "    </tr>\n",
       "    <tr>\n",
       "      <th>1</th>\n",
       "      <td>1</td>\n",
       "      <td>104651.162791</td>\n",
       "      <td>172.0</td>\n",
       "      <td>departamento</td>\n",
       "      <td>2.0</td>\n",
       "      <td>2.0</td>\n",
       "      <td>2.0</td>\n",
       "      <td>POLANCO REFORMA (POLANCO)</td>\n",
       "      <td>MIGUEL HIDALGO</td>\n",
       "      <td>755.632370</td>\n",
       "    </tr>\n",
       "    <tr>\n",
       "      <th>2</th>\n",
       "      <td>2</td>\n",
       "      <td>85919.540230</td>\n",
       "      <td>174.0</td>\n",
       "      <td>departamento</td>\n",
       "      <td>2.0</td>\n",
       "      <td>2.0</td>\n",
       "      <td>2.0</td>\n",
       "      <td>POLANCO REFORMA (POLANCO)</td>\n",
       "      <td>MIGUEL HIDALGO</td>\n",
       "      <td>772.890462</td>\n",
       "    </tr>\n",
       "    <tr>\n",
       "      <th>3</th>\n",
       "      <td>3</td>\n",
       "      <td>5092.622951</td>\n",
       "      <td>183.0</td>\n",
       "      <td>departamento</td>\n",
       "      <td>3.0</td>\n",
       "      <td>3.0</td>\n",
       "      <td>2.0</td>\n",
       "      <td>POLANCO REFORMA (POLANCO)</td>\n",
       "      <td>MIGUEL HIDALGO</td>\n",
       "      <td>1004.848305</td>\n",
       "    </tr>\n",
       "    <tr>\n",
       "      <th>4</th>\n",
       "      <td>4</td>\n",
       "      <td>93125.000000</td>\n",
       "      <td>160.0</td>\n",
       "      <td>departamento</td>\n",
       "      <td>2.0</td>\n",
       "      <td>2.0</td>\n",
       "      <td>2.0</td>\n",
       "      <td>POLANCO REFORMA (POLANCO)</td>\n",
       "      <td>MIGUEL HIDALGO</td>\n",
       "      <td>480.029999</td>\n",
       "    </tr>\n",
       "  </tbody>\n",
       "</table>\n",
       "</div>"
      ],
      "text/plain": [
       "   Unnamed: 0      precio_m2  superficie_total     categoria  dormitorios  \\\n",
       "0           0   60144.927536             138.0  departamento          2.0   \n",
       "1           1  104651.162791             172.0  departamento          2.0   \n",
       "2           2   85919.540230             174.0  departamento          2.0   \n",
       "3           3    5092.622951             183.0  departamento          3.0   \n",
       "4           4   93125.000000             160.0  departamento          2.0   \n",
       "\n",
       "   baños  cocheras                    colonia        alcaldia   dist_metro  \n",
       "0    3.0       2.0  POLANCO REFORMA (POLANCO)  MIGUEL HIDALGO   499.558324  \n",
       "1    2.0       2.0  POLANCO REFORMA (POLANCO)  MIGUEL HIDALGO   755.632370  \n",
       "2    2.0       2.0  POLANCO REFORMA (POLANCO)  MIGUEL HIDALGO   772.890462  \n",
       "3    3.0       2.0  POLANCO REFORMA (POLANCO)  MIGUEL HIDALGO  1004.848305  \n",
       "4    2.0       2.0  POLANCO REFORMA (POLANCO)  MIGUEL HIDALGO   480.029999  "
      ]
     },
     "execution_count": 2,
     "metadata": {},
     "output_type": "execute_result"
    }
   ],
   "source": [
    "data = pd.read_csv('03_data.csv')\n",
    "data.head()"
   ]
  },
  {
   "cell_type": "code",
   "execution_count": 3,
   "id": "9b3e687f",
   "metadata": {},
   "outputs": [
    {
     "name": "stderr",
     "output_type": "stream",
     "text": [
      "/Users/martinsingla/opt/anaconda3/lib/python3.8/site-packages/pandas/core/arraylike.py:358: RuntimeWarning: divide by zero encountered in log\n",
      "  result = getattr(ufunc, method)(*inputs, **kwargs)\n"
     ]
    },
    {
     "data": {
      "image/png": "[encoded data removed]",
      "text/plain": [
       "<Figure size 432x288 with 1 Axes>"
      ]
     },
     "metadata": {
      "needs_background": "light"
     },
     "output_type": "display_data"
    }
   ],
   "source": [
    "plt.scatter(y= np.log(data['precio_m2']), x= np.log(data['superficie_total']))\n",
    "plt.ylabel('LOG precio m2')\n",
    "plt.xlabel('LOG superficie total')\n",
    "plt.show()"
   ]
  },
  {
   "cell_type": "code",
   "execution_count": 4,
   "id": "64b8e045",
   "metadata": {},
   "outputs": [
    {
     "data": {
      "image/png": "[encoded data removed]",
      "text/plain": [
       "<Figure size 432x288 with 1 Axes>"
      ]
     },
     "metadata": {
      "needs_background": "light"
     },
     "output_type": "display_data"
    }
   ],
   "source": [
    "plt.scatter(y= np.log(data['precio_m2']), x= data['dormitorios'])\n",
    "plt.ylabel('LOG precio m2')\n",
    "plt.xlabel('dormitorios')\n",
    "plt.show()"
   ]
  },
  {
   "cell_type": "code",
   "execution_count": 5,
   "id": "7b0e5533",
   "metadata": {},
   "outputs": [
    {
     "data": {
      "image/png": "[encoded data removed]",
      "text/plain": [
       "<Figure size 432x288 with 1 Axes>"
      ]
     },
     "metadata": {
      "needs_background": "light"
     },
     "output_type": "display_data"
    }
   ],
   "source": [
    "plt.scatter(y= np.log(data['precio_m2']), x= data['baños'])\n",
    "plt.ylabel('LOG precio m2')\n",
    "plt.xlabel('baños')\n",
    "plt.show()"
   ]
  },
  {
   "cell_type": "code",
   "execution_count": 6,
   "id": "1fe41695",
   "metadata": {},
   "outputs": [
    {
     "data": {
      "image/png": "[encoded data removed]",
      "text/plain": [
       "<Figure size 432x288 with 1 Axes>"
      ]
     },
     "metadata": {
      "needs_background": "light"
     },
     "output_type": "display_data"
    }
   ],
   "source": [
    "plt.scatter(y= np.log(data['precio_m2']), x= np.log(data['cocheras']))\n",
    "plt.ylabel('LOG precio m2')\n",
    "plt.xlabel('cocheras')\n",
    "plt.show()"
   ]
  },
  {
   "cell_type": "code",
   "execution_count": 7,
   "id": "66650be2",
   "metadata": {},
   "outputs": [
    {
     "data": {
      "image/png": "[encoded data removed]",
      "text/plain": [
       "<Figure size 432x288 with 1 Axes>"
      ]
     },
     "metadata": {
      "needs_background": "light"
     },
     "output_type": "display_data"
    }
   ],
   "source": [
    "plt.scatter(y= np.log(data['precio_m2']), x= np.log(data['dist_metro']))\n",
    "plt.ylabel('LOG precio m2')\n",
    "plt.xlabel('LOG distancia metro')\n",
    "plt.show()"
   ]
  },
  {
   "cell_type": "code",
   "execution_count": null,
   "id": "1ccfb753",
   "metadata": {},
   "outputs": [],
   "source": [
    ">>> import statsmodels.api as sm\n",
    ">>> import numpy as np\n",
    ">>> duncan_prestige = sm.datasets.get_rdataset(\"Duncan\", \"carData\")\n",
    ">>> Y = duncan_prestige.data['income']\n",
    ">>> X = duncan_prestige.data['education']\n",
    ">>> X = sm.add_constant(X)\n",
    ">>> model = sm.OLS(Y,X)\n",
    ">>> results = model.fit()\n",
    ">>> results.params"
   ]
  },
  {
   "cell_type": "code",
   "execution_count": 17,
   "id": "4df87db0",
   "metadata": {},
   "outputs": [],
   "source": [
    "data = data[(data['baños'].notnull()) & (data['dormitorios'].notnull()) & \n",
    "     (data['cocheras'].notnull()) & (data['superficie_total'].notnull()) & (data['precio_m2'].notnull())]"
   ]
  },
  {
   "cell_type": "code",
   "execution_count": 30,
   "id": "57d64a3e",
   "metadata": {},
   "outputs": [
    {
     "name": "stdout",
     "output_type": "stream",
     "text": [
      "                            OLS Regression Results                            \n",
      "==============================================================================\n",
      "Dep. Variable:              precio_m2   R-squared:                       0.002\n",
      "Model:                            OLS   Adj. R-squared:                  0.002\n",
      "Method:                 Least Squares   F-statistic:                     11.85\n",
      "Date:                Tue, 24 Aug 2021   Prob (F-statistic):           0.000580\n",
      "Time:                        02:20:32   Log-Likelihood:                -7874.0\n",
      "No. Observations:                6166   AIC:                         1.575e+04\n",
      "Df Residuals:                    6164   BIC:                         1.577e+04\n",
      "Df Model:                           1                                         \n",
      "Covariance Type:            nonrobust                                         \n",
      "==================================================================================\n",
      "                     coef    std err          t      P>|t|      [0.025      0.975]\n",
      "----------------------------------------------------------------------------------\n",
      "const             10.6020      0.067    157.657      0.000      10.470      10.734\n",
      "dist_metro_LOG    -0.0309      0.009     -3.443      0.001      -0.048      -0.013\n",
      "==============================================================================\n",
      "Omnibus:                     1119.972   Durbin-Watson:                   1.500\n",
      "Prob(Omnibus):                  0.000   Jarque-Bera (JB):             2414.016\n",
      "Skew:                          -1.060   Prob(JB):                         0.00\n",
      "Kurtosis:                       5.215   Cond. No.                         46.4\n",
      "==============================================================================\n",
      "\n",
      "Notes:\n",
      "[1] Standard Errors assume that the covariance matrix of the errors is correctly specified.\n"
     ]
    }
   ],
   "source": [
    "import statsmodels.api as sm\n",
    "\n",
    "data['dist_metro_LOG'] = np.log(data['dist_metro'])\n",
    "\n",
    "y= np.log(data['precio_m2'])\n",
    "X= data[['dist_metro_LOG']]\n",
    "X = sm.add_constant(X)\n",
    "model = sm.OLS(y, X).fit()\n",
    "print(model.summary())"
   ]
  },
  {
   "cell_type": "code",
   "execution_count": null,
   "id": "ca2d898a",
   "metadata": {},
   "outputs": [],
   "source": []
  }
 ],
 "metadata": {
  "kernelspec": {
   "display_name": "Python 3",
   "language": "python",
   "name": "python3"
  },
  "language_info": {
   "codemirror_mode": {
    "name": "ipython",
    "version": 3
   },
   "file_extension": ".py",
   "mimetype": "text/x-python",
   "name": "python",
   "nbconvert_exporter": "python",
   "pygments_lexer": "ipython3",
   "version": "3.8.8"
  }
 },
 "nbformat": 4,
 "nbformat_minor": 5
}
