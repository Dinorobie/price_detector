{
 "cells": [
  {
   "cell_type": "markdown",
   "metadata": {},
   "source": [
    "# Viva anuncios scrapper"
   ]
  },
  {
   "cell_type": "markdown",
   "metadata": {},
   "source": [
    "### Set-up"
   ]
  },
  {
   "cell_type": "code",
   "execution_count": 1,
   "metadata": {},
   "outputs": [],
   "source": [
    "# Dependencies and libraries\n",
    "import requests\n",
    "import pandas as pd\n",
    "\n",
    "from bs4 import BeautifulSoup\n",
    "from splinter import Browser\n",
    "from webdriver_manager.chrome import ChromeDriverManager\n"
   ]
  },
  {
   "cell_type": "code",
   "execution_count": 2,
   "metadata": {},
   "outputs": [
    {
     "name": "stderr",
     "output_type": "stream",
     "text": [
      "\n",
      "\n",
      "====== WebDriver manager ======\n",
      "Current google-chrome version is 92.0.4515\n",
      "Get LATEST driver version for 92.0.4515\n",
      "Driver [C:\\Users\\Juanjo\\.wdm\\drivers\\chromedriver\\win32\\92.0.4515.107\\chromedriver.exe] found in cache\n"
     ]
    }
   ],
   "source": [
    "# Setup splinter\n",
    "executable_path = {'executable_path': ChromeDriverManager().install()}\n",
    "browser = Browser('chrome', **executable_path, headless=False)\n"
   ]
  },
  {
   "cell_type": "code",
   "execution_count": 3,
   "metadata": {},
   "outputs": [],
   "source": [
    "# Loading page\n",
    "url = 'https://www.vivanuncios.com.mx/s-venta-inmuebles/distrito-federal/v1c1097l1008p1'\n",
    "browser.visit(url)\n"
   ]
  },
  {
   "cell_type": "code",
   "execution_count": 5,
   "metadata": {},
   "outputs": [],
   "source": [
    "# Getting the page\n",
    "html = browser.html\n",
    "soup = BeautifulSoup(html, 'html.parser')\n"
   ]
  },
  {
   "cell_type": "code",
   "execution_count": 30,
   "metadata": {},
   "outputs": [],
   "source": [
    "# Disecting the page\n",
    "price = soup.findAll('span', class_=\"ad-price\")\n",
    "square_meters = soup.findAll('div', class_=\"chiplets-inline-block surface-area\")\n",
    "attributes = soup.findAll('div', class_=\"float-right\")\n",
    "adress = soup.findAll('div', class_=\"tile-location one-liner\")\n"
   ]
  },
  {
   "cell_type": "markdown",
   "metadata": {},
   "source": [
    "### Pulling data"
   ]
  },
  {
   "cell_type": "code",
   "execution_count": 47,
   "metadata": {},
   "outputs": [
    {
     "name": "stdout",
     "output_type": "stream",
     "text": [
      "['\\n                    $1,735,000\\n                    \\n                ', '\\n                    $20,500,000\\n                    \\n                ', '\\n                    $1,437,280\\n                    \\n                ', '\\n                    $1,487,340\\n                    \\n                ', '\\n                    $5,239,836\\n                    \\n                ', '\\n                    $2,533,390\\n                    \\n                ', '\\n                    $880,000\\n                    \\n                ', '\\n                    $184,800\\n                    \\n                        USD\\n                    \\n                ', '\\n                    $1,750,000\\n                    \\n                ', '\\n                    $1,595,810\\n                    \\n                ', '\\n                    $1,735,000\\n                    \\n                ', '\\n                    $20,500,000\\n                    \\n                ', '\\n                    $5,239,836\\n                    \\n                ', '\\n                    $3,364,400\\n                    \\n                ', '\\n                    $4,203,173\\n                    \\n                ', '\\n                    $2,077,000\\n                    \\n                ', '\\n                    $6,987,000\\n                    \\n                ', '\\n                    $5,280,000\\n                    \\n                ', '\\n                    $2,380,000\\n                    \\n                ', '\\n                    $5,124,950\\n                    \\n                ', '\\n                    $4,800,000\\n                    \\n                ', '\\n                    $7,650,000\\n                    \\n                ', '\\n                    $4,960,000\\n                    \\n                ', '\\n                    $4,240,000\\n                    \\n                ', '\\n                    $6,800,000\\n                    \\n                ', '\\n                    $17,795,000\\n                    \\n                ', '\\n                    $6,390,950\\n                    \\n                ', '\\n                    $3,500,000\\n                    \\n                ', '\\n                    $6,500,000\\n                    \\n                ', '\\n                    $4,250,000\\n                    \\n                ', '\\n                    $8,760,000\\n                    \\n                ', '\\n                    $7,500,000\\n                    \\n                ', '\\n                    $6,900,000\\n                    \\n                ', '\\n                    $18,000,000\\n                    \\n                ', '\\n                    $23,000,000\\n                    \\n                ', '\\n                    $2,750,000\\n                    \\n                        USD\\n                    \\n                ', '\\n                    $9,326,500\\n                    \\n                ', '\\n                    $8,230,000\\n                    \\n                ', '\\n                    $23,500,000\\n                    \\n                ', '\\n                        $48K\\n                        \\n                    ', '\\n                        $850K\\n                        \\n                    ', '\\n                        $850K\\n                        \\n                    ', '\\n                        $870K\\n                        \\n                    ', '\\n                        $1.8M\\n                        \\n                    ']\n"
     ]
    }
   ],
   "source": [
    "# Price\n",
    "price_list = []\n",
    "for _ in price:\n",
    "    price_list.append(_.text)\n",
    "\n",
    "print (price_list)"
   ]
  }
 ],
 "metadata": {
  "kernelspec": {
   "display_name": "Python [conda env:PythonData]",
   "language": "python",
   "name": "conda-env-PythonData-py"
  },
  "language_info": {
   "codemirror_mode": {
    "name": "ipython",
    "version": 3
   },
   "file_extension": ".py",
   "mimetype": "text/x-python",
   "name": "python",
   "nbconvert_exporter": "python",
   "pygments_lexer": "ipython3",
   "version": "3.6.10"
  }
 },
 "nbformat": 4,
 "nbformat_minor": 4
}
