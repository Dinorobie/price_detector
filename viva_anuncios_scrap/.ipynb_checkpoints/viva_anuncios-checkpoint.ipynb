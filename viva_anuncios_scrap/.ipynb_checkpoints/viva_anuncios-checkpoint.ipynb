{
 "cells": [
  {
   "cell_type": "markdown",
   "metadata": {},
   "source": [
    "# Viva anuncios scrapper"
   ]
  },
  {
   "cell_type": "markdown",
   "metadata": {},
   "source": [
    "### Set-up"
   ]
  },
  {
   "cell_type": "code",
   "execution_count": null,
   "metadata": {},
   "outputs": [],
   "source": [
    "# Dependencies and libraries\n",
    "import requests\n",
    "import pandas as pd\n",
    "import re\n",
    "import json\n",
    "import time\n",
    "\n",
    "from bs4 import BeautifulSoup\n",
    "from splinter import Browser\n",
    "from webdriver_manager.chrome import ChromeDriverManager\n",
    "from IPython.display import clear_output\n"
   ]
  },
  {
   "cell_type": "code",
   "execution_count": null,
   "metadata": {},
   "outputs": [],
   "source": [
    "# Setup splinter\n",
    "executable_path = {'executable_path': ChromeDriverManager().install()}\n",
    "browser = Browser('chrome', **executable_path, headless=False)\n"
   ]
  },
  {
   "cell_type": "code",
   "execution_count": null,
   "metadata": {},
   "outputs": [],
   "source": [
    "# Loading page\n",
    "url = 'https://www.vivanuncios.com.mx/s-venta-inmuebles/distrito-federal/v1c1097l1008p1'\n",
    "browser.visit(url)\n",
    "# Getting the page\n",
    "html = browser.html\n"
   ]
  },
  {
   "cell_type": "markdown",
   "metadata": {},
   "source": [
    "# Important: the page only loads 50 pages of results, before running the scrap check if this condition still applies"
   ]
  },
  {
   "cell_type": "code",
   "execution_count": null,
   "metadata": {},
   "outputs": [],
   "source": [
    "last_page = 50\n",
    "id = 1\n",
    "for page in range(0,last_page+1):\n",
    "    # Printing progress information\n",
    "    clear_output(wait=True)\n",
    "    request_num += 1\n",
    "    print(f'Processing page: {page}/{50}')\n",
    "        \n",
    "    html = browser.html\n",
    "    soup = BeautifulSoup(html, 'html.parser')\n",
    "    soup2 = soup.findAll('div', class_='tileV2 REAdTileV2 regular mapView')\n",
    "    scrapped_data = {id:{}}\n",
    "    for ad in soup2:\n",
    "        try:\n",
    "            scrapped_data[id]['price'] = (ad.find(class_=\"ad-price\").text)\n",
    "        except:\n",
    "            scrapped_data[id]['price'] = (0)\n",
    "        try:\n",
    "            scrapped_data[id]['square_meters'] = (ad.find(class_=\"chiplets-inline-block surface-area\").text)\n",
    "        except:\n",
    "            scrapped_data[id]['square_meters'] = ('0')\n",
    "        try:\n",
    "            scrapped_data[id]['bedrooms'] = (ad.find(class_=\"chiplets-inline-block re-bedroom\").text)\n",
    "        except:\n",
    "            scrapped_data[id]['bedrooms'] = ('0')\n",
    "        try:\n",
    "            scrapped_data[id]['bathrooms'] = (ad.find(class_=\"chiplets-inline-block re-bathroom\").text)\n",
    "        except:\n",
    "            scrapped_data[id]['bathrooms'] = ('0')\n",
    "        try:\n",
    "            scrapped_data[id]['parking_spaces'] = (ad.find(class_=\"chiplets-inline-block car-parking\").text)\n",
    "        except:\n",
    "            scrapped_data[id]['parking_spaces'] = ('0')\n",
    "        try:\n",
    "            scrapped_data[id]['address'] = (ad.find(class_=\"tile-location one-liner\").text)\n",
    "        except:\n",
    "            scrapped_data[id]['address'] = ('0')\n",
    "        try:\n",
    "            scrapped_data[id]['description'] = (ad.find(class_=\"href-link tile-title-text\").text)\n",
    "        except:\n",
    "            scrapped_data[id]['description'] = ('0')\n",
    "        id += 1\n",
    "        scrapped_data[id] = {}\n",
    "        #browser.links.find_by_partial_href('/s-venta-inmuebles/distrito-federal/page-'+str(page+2)).click\n",
    "    url = 'https://www.vivanuncios.com.mx/s-venta-inmuebles/distrito-federal/v1c1097l1008p'+str(page+2)\n",
    "    browser.visit(url)\n",
    "    time.sleep(2)\n",
    "        \n",
    "        \n",
    "\n",
    "    \n",
    "scrapped_data"
   ]
  },
  {
   "cell_type": "code",
   "execution_count": null,
   "metadata": {},
   "outputs": [],
   "source": [
    "## Reformatting\n",
    "for i in range(1,len(scrapped_data)+1):\n",
    "    # Reformatting price\n",
    "    scrapped_data[i]['price'] = re.sub(\"[^0-9]\", \"\", scrapped_data[i]['price'])\n",
    "    # Reformatting square meters\n",
    "    scrapped_data[i]['square_meters'] = re.sub(\"[^0-9]\", \"\", scrapped_data[i]['square_meters'])"
   ]
  },
  {
   "cell_type": "code",
   "execution_count": null,
   "metadata": {},
   "outputs": [],
   "source": [
    "# Closing browser\n",
    "browser.quit()\n",
    "\n",
    "# Saving the data to a json\n",
    "with open('viva_anuncios.json', 'w') as fp:\n",
    "    json.dump(scrapped_data, fp, indent=4)\n"
   ]
  },
  {
   "cell_type": "code",
   "execution_count": null,
   "metadata": {},
   "outputs": [],
   "source": []
  }
 ],
 "metadata": {
  "kernelspec": {
   "display_name": "Python [conda env:PythonData]",
   "language": "python",
   "name": "conda-env-PythonData-py"
  },
  "language_info": {
   "codemirror_mode": {
    "name": "ipython",
    "version": 3
   },
   "file_extension": ".py",
   "mimetype": "text/x-python",
   "name": "python",
   "nbconvert_exporter": "python",
   "pygments_lexer": "ipython3",
   "version": "3.6.10"
  }
 },
 "nbformat": 4,
 "nbformat_minor": 4
}
